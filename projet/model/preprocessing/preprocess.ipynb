{
 "cells": [
  {
   "cell_type": "code",
   "execution_count": 5,
   "id": "b33bbd1f",
   "metadata": {},
   "outputs": [],
   "source": [
    "import pandas as pd import nltk\n",
    "nltk.download('stopwords')\n",
    "from nltk.stem import LancasterStemmer\n",
    "lancaster=LancasterStemmer()\n",
    "import os\n",
    "from sklearn.feature_extraction.text import CountVectorizer"
   ]
  },
  {
   "cell_type": "code",
   "execution_count": null,
   "id": "b9499f53",
   "metadata": {},
   "outputs": [],
   "source": [
    "# Python program to change the\n",
    "# current working directory\n",
    "\n",
    "\n",
    "# Function to Get the current\n",
    "# working directory\n",
    "def current_path():\n",
    "\tprint(\"Current working directory before\")\n",
    "\tprint(os.getcwd())\n",
    "\tprint()\n",
    "\n",
    "\n",
    "# Driver's code\n",
    "# Printing CWD before\n",
    "current_path()\n",
    "\n",
    "# Changing the CWD\n",
    "os.chdir('../')\n",
    "#os.chdir('data')\n",
    "current_path()"
   ]
  },
  {
   "cell_type": "code",
   "execution_count": 83,
   "id": "b7b5e50a",
   "metadata": {
    "scrolled": true
   },
   "outputs": [
    {
     "data": {
      "text/html": [
       "<div>\n",
       "<style scoped>\n",
       "    .dataframe tbody tr th:only-of-type {\n",
       "        vertical-align: middle;\n",
       "    }\n",
       "\n",
       "    .dataframe tbody tr th {\n",
       "        vertical-align: top;\n",
       "    }\n",
       "\n",
       "    .dataframe thead th {\n",
       "        text-align: right;\n",
       "    }\n",
       "</style>\n",
       "<table border=\"1\" class=\"dataframe\">\n",
       "  <thead>\n",
       "    <tr style=\"text-align: right;\">\n",
       "      <th></th>\n",
       "      <th>review</th>\n",
       "      <th>sentiment</th>\n",
       "    </tr>\n",
       "  </thead>\n",
       "  <tbody>\n",
       "    <tr>\n",
       "      <th>0</th>\n",
       "      <td>One of the other reviewers has mentioned that ...</td>\n",
       "      <td>positive</td>\n",
       "    </tr>\n",
       "    <tr>\n",
       "      <th>1</th>\n",
       "      <td>A wonderful little production. &lt;br /&gt;&lt;br /&gt;The...</td>\n",
       "      <td>positive</td>\n",
       "    </tr>\n",
       "    <tr>\n",
       "      <th>2</th>\n",
       "      <td>I thought this was a wonderful way to spend ti...</td>\n",
       "      <td>positive</td>\n",
       "    </tr>\n",
       "    <tr>\n",
       "      <th>3</th>\n",
       "      <td>Basically there's a family where a little boy ...</td>\n",
       "      <td>negative</td>\n",
       "    </tr>\n",
       "    <tr>\n",
       "      <th>4</th>\n",
       "      <td>Petter Mattei's \"Love in the Time of Money\" is...</td>\n",
       "      <td>positive</td>\n",
       "    </tr>\n",
       "    <tr>\n",
       "      <th>...</th>\n",
       "      <td>...</td>\n",
       "      <td>...</td>\n",
       "    </tr>\n",
       "    <tr>\n",
       "      <th>49995</th>\n",
       "      <td>I thought this movie did a down right good job...</td>\n",
       "      <td>positive</td>\n",
       "    </tr>\n",
       "    <tr>\n",
       "      <th>49996</th>\n",
       "      <td>Bad plot, bad dialogue, bad acting, idiotic di...</td>\n",
       "      <td>negative</td>\n",
       "    </tr>\n",
       "    <tr>\n",
       "      <th>49997</th>\n",
       "      <td>I am a Catholic taught in parochial elementary...</td>\n",
       "      <td>negative</td>\n",
       "    </tr>\n",
       "    <tr>\n",
       "      <th>49998</th>\n",
       "      <td>I'm going to have to disagree with the previou...</td>\n",
       "      <td>negative</td>\n",
       "    </tr>\n",
       "    <tr>\n",
       "      <th>49999</th>\n",
       "      <td>No one expects the Star Trek movies to be high...</td>\n",
       "      <td>negative</td>\n",
       "    </tr>\n",
       "  </tbody>\n",
       "</table>\n",
       "<p>50000 rows × 2 columns</p>\n",
       "</div>"
      ],
      "text/plain": [
       "                                                  review sentiment\n",
       "0      One of the other reviewers has mentioned that ...  positive\n",
       "1      A wonderful little production. <br /><br />The...  positive\n",
       "2      I thought this was a wonderful way to spend ti...  positive\n",
       "3      Basically there's a family where a little boy ...  negative\n",
       "4      Petter Mattei's \"Love in the Time of Money\" is...  positive\n",
       "...                                                  ...       ...\n",
       "49995  I thought this movie did a down right good job...  positive\n",
       "49996  Bad plot, bad dialogue, bad acting, idiotic di...  negative\n",
       "49997  I am a Catholic taught in parochial elementary...  negative\n",
       "49998  I'm going to have to disagree with the previou...  negative\n",
       "49999  No one expects the Star Trek movies to be high...  negative\n",
       "\n",
       "[50000 rows x 2 columns]"
      ]
     },
     "execution_count": 83,
     "metadata": {},
     "output_type": "execute_result"
    }
   ],
   "source": [
    "df = pd.read_csv('data/IMDB_Dataset.csv')\n",
    "df"
   ]
  },
  {
   "cell_type": "code",
   "execution_count": 84,
   "id": "cc3b90cd",
   "metadata": {},
   "outputs": [],
   "source": [
    "sentiment_train = X_train.sentiment.factorize()\n",
    "sentiment_test = X_test.sentiment.factorize()\n",
    "\n",
    "text_train = X_train.review.values\n",
    "text_test = X_test.review.values"
   ]
  },
  {
   "cell_type": "code",
   "execution_count": 86,
   "id": "19a4c709",
   "metadata": {},
   "outputs": [],
   "source": [
    "df['review_split'] = df['review'].str.split()"
   ]
  },
  {
   "cell_type": "code",
   "execution_count": 87,
   "id": "34e4584b",
   "metadata": {},
   "outputs": [],
   "source": [
    "df['review_split'] = [word for word in df['review_split'] if not word in stopwords.words()]"
   ]
  },
  {
   "cell_type": "code",
   "execution_count": 88,
   "id": "3220263f",
   "metadata": {
    "scrolled": true
   },
   "outputs": [],
   "source": [
    "df['review_split_stemmed'] = df['review_split'].apply(lambda x: [lancaster.stem(y) for y in x]) "
   ]
  },
  {
   "cell_type": "code",
   "execution_count": 89,
   "id": "8559eb9b",
   "metadata": {},
   "outputs": [],
   "source": [
    " df['vectors']= df['review_split_stemmed'].apply(lambda x: [vectorizer.fit_transform(x)]) "
   ]
  },
  {
   "cell_type": "code",
   "execution_count": 91,
   "id": "8307ed3f",
   "metadata": {},
   "outputs": [],
   "source": [
    "X_train = df.iloc[:int(0.75*len(df))].copy()\n",
    "X_test = df.iloc[int(0.75*len(df)):len(df)].copy()"
   ]
  }
 ],
 "metadata": {
  "kernelspec": {
   "display_name": "Python 3 (ipykernel)",
   "language": "python",
   "name": "python3"
  },
  "language_info": {
   "codemirror_mode": {
    "name": "ipython",
    "version": 3
   },
   "file_extension": ".py",
   "mimetype": "text/x-python",
   "name": "python",
   "nbconvert_exporter": "python",
   "pygments_lexer": "ipython3",
   "version": "3.9.7"
  }
 },
 "nbformat": 4,
 "nbformat_minor": 5
}
