{
 "cells": [
  {
   "cell_type": "code",
   "execution_count": 2,
   "id": "b7c3906d",
   "metadata": {},
   "outputs": [
    {
     "name": "stdout",
     "output_type": "stream",
     "text": [
      "Current working directory before\n",
      "C:\\Users\\Isa\\Desktop\\DE_Proj\\deProjet\\projet\\model\n",
      "\n",
      "Current working directory before\n",
      "C:\\Users\\Isa\\Desktop\\DE_Proj\\deProjet\\projet\n",
      "\n"
     ]
    }
   ],
   "source": [
    "# Python program to change the\n",
    "# current working directory\n",
    "\n",
    "\n",
    "import os\n",
    "\n",
    "# Function to Get the current\n",
    "# working directory\n",
    "def current_path():\n",
    "\tprint(\"Current working directory before\")\n",
    "\tprint(os.getcwd())\n",
    "\tprint()\n",
    "\n",
    "\n",
    "# Driver's code\n",
    "# Printing CWD before\n",
    "current_path()\n",
    "\n",
    "# Changing the CWD\n",
    "os.chdir('../')\n",
    "os.chdir('/data/')\n",
    "# Printing CWD after\n",
    "current_path()\n"
   ]
  }
 ],
 "metadata": {
  "kernelspec": {
   "display_name": "Python 3 (ipykernel)",
   "language": "python",
   "name": "python3"
  },
  "language_info": {
   "codemirror_mode": {
    "name": "ipython",
    "version": 3
   },
   "file_extension": ".py",
   "mimetype": "text/x-python",
   "name": "python",
   "nbconvert_exporter": "python",
   "pygments_lexer": "ipython3",
   "version": "3.9.7"
  }
 },
 "nbformat": 4,
 "nbformat_minor": 5
}
